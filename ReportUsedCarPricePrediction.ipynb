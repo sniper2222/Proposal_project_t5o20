{
 "cells": [
  {
   "cell_type": "markdown",
   "id": "7c7943fb",
   "metadata": {},
   "source": [
    "# Used Car Price Prediction\n"
   ]
  },
  {
   "cell_type": "markdown",
   "id": "dfad0b68",
   "metadata": {},
   "source": [
    "## Abstract"
   ]
  },
  {
   "cell_type": "markdown",
   "id": "7b5f59de",
   "metadata": {},
   "source": [
    "The goal of this project was to use regrssion models to predict the price of used car in order to help improve fair sell.The used data in this project is provided by Kaggle. with sklearn library random forest was trained and get 88% accuracy.After refining a model, I built an interactive visualiztion and communicate my results using seaborn library.\n"
   ]
  },
  {
   "cell_type": "markdown",
   "id": "5d634b7e",
   "metadata": {},
   "source": [
    "---\n"
   ]
  },
  {
   "cell_type": "markdown",
   "id": "1c8db80c",
   "metadata": {},
   "source": [
    "## Design"
   ]
  },
  {
   "cell_type": "markdown",
   "id": "eeb063b7",
   "metadata": {},
   "source": [
    "This project is one of the T5 Data Science BootCamp requirements. The main aim of this project is to predict the price of used car. Data provided by Kaggle has been used in this project. All the Lifecycle In A Data Science Project is divided into four parts:Exploratory Data Analysis, Feature, Engineering, Feature selection, Model. "
   ]
  },
  {
   "cell_type": "markdown",
   "id": "1c6bcbc8",
   "metadata": {},
   "source": [
    "---"
   ]
  },
  {
   "cell_type": "markdown",
   "id": "d8be8611",
   "metadata": {},
   "source": [
    "## Data"
   ]
  },
  {
   "cell_type": "markdown",
   "id": "3372e4a1",
   "metadata": {},
   "source": [
    "The dataset is provided in .csv format. It contains over 6000 rows with 13 featuers that contains information about used cars. The columns in the given dataset are as follows: (Name, Location, Year, Kilometers_Driven, Fuel_Type, Transmission, Owner_type, Mileage, Power, Engine, New_Price, Price, Seats)."
   ]
  },
  {
   "cell_type": "markdown",
   "id": "4f0d473d",
   "metadata": {},
   "source": [
    "---"
   ]
  },
  {
   "cell_type": "markdown",
   "id": "2f47ae79",
   "metadata": {},
   "source": [
    "## Algorithms"
   ]
  },
  {
   "cell_type": "markdown",
   "id": "f47fcc05",
   "metadata": {},
   "source": [
    "#### Feature Engineering:\n",
    "\n",
    "1. Adding a new column in our data frame : The ‘Name’ column has so many values so we will separate the brand names from the column and create a new column ‘Brand_Name’.\n",
    "\n",
    "2. Handling of Missing values : Removing null values from the 3 columns , fill null value in column seat by mode.\n",
    "\n",
    "3. Substitution of Categorical variables : I used one hot encoding. This essentially turns every unique value of a variable into its own binary variable.\n",
    "\n",
    "4. Remove Outliers\n",
    "\n",
    "\n"
   ]
  },
  {
   "cell_type": "markdown",
   "id": "66e4dd3a",
   "metadata": {},
   "source": [
    "-----"
   ]
  },
  {
   "cell_type": "markdown",
   "id": "94ec3808",
   "metadata": {},
   "source": [
    "## Model"
   ]
  },
  {
   "cell_type": "markdown",
   "id": "9284c110",
   "metadata": {},
   "source": [
    "Linear Regression, Lasso, Decision Tree, Random Forest were used before settling on random forest as the model with best accuracy. Random forest feature importance ranking was used directly to guide the choice and order of variables to be included as the model underwent refinement."
   ]
  },
  {
   "cell_type": "markdown",
   "id": "8587e56f",
   "metadata": {},
   "source": [
    "----"
   ]
  },
  {
   "cell_type": "markdown",
   "id": "b8849ee8",
   "metadata": {},
   "source": [
    "### Model Evaluation and Selection"
   ]
  },
  {
   "cell_type": "markdown",
   "id": "87507d8e",
   "metadata": {},
   "source": [
    "Random Forest get the higher accuracy get 88%. The models were trained on a 20/80 test vs"
   ]
  },
  {
   "cell_type": "markdown",
   "id": "7f1d4414",
   "metadata": {},
   "source": [
    "---"
   ]
  },
  {
   "cell_type": "markdown",
   "id": "6c16bd83",
   "metadata": {},
   "source": [
    "## Tools"
   ]
  },
  {
   "cell_type": "markdown",
   "id": "66b2df46",
   "metadata": {},
   "source": [
    "1. Pandas for data manipulation\n",
    "2. Scikit-learn for modeling\n",
    "3. Matplotlib for plotting\n"
   ]
  },
  {
   "cell_type": "code",
   "execution_count": null,
   "id": "fed3a68c",
   "metadata": {},
   "outputs": [],
   "source": []
  },
  {
   "cell_type": "code",
   "execution_count": null,
   "id": "ab3a9616",
   "metadata": {},
   "outputs": [],
   "source": []
  }
 ],
 "metadata": {
  "kernelspec": {
   "display_name": "Python 3 (ipykernel)",
   "language": "python",
   "name": "python3"
  },
  "language_info": {
   "codemirror_mode": {
    "name": "ipython",
    "version": 3
   },
   "file_extension": ".py",
   "mimetype": "text/x-python",
   "name": "python",
   "nbconvert_exporter": "python",
   "pygments_lexer": "ipython3",
   "version": "3.7.6"
  }
 },
 "nbformat": 4,
 "nbformat_minor": 5
}
